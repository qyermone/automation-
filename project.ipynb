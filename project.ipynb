{
 "cells": [
  {
   "cell_type": "code",
   "execution_count": 1,
   "id": "e22108a7",
   "metadata": {},
   "outputs": [],
   "source": [
    "import os\n",
    "import shutil\n",
    "\n",
    "from selenium import webdriver\n",
    "from selenium.webdriver.common.keys import Keys\n",
    "\n",
    "import pandas as pd\n",
    "import numpy as np\n",
    "\n",
    "from datetime import datetime\n",
    "import patoolib\n",
    " \n",
    "    \n",
    "#dkaliyev@1cb.kz"
   ]
  },
  {
   "cell_type": "code",
   "execution_count": 2,
   "id": "f91bb518",
   "metadata": {},
   "outputs": [],
   "source": [
    "#соединение с pgadmin\n",
    "import psycopg2\n",
    "import psycopg2.extras as extras\n",
    "conn = psycopg2.connect(dbname='postgres', user='postgres', password='24270188', host='localhost', port='5432')"
   ]
  },
  {
   "cell_type": "code",
   "execution_count": 3,
   "id": "d3757960",
   "metadata": {
    "scrolled": false
   },
   "outputs": [
    {
     "name": "stderr",
     "output_type": "stream",
     "text": [
      "[WDM] - ====== WebDriver manager ======\n",
      "[WDM] - Current edge version is 101.0.1210\n",
      "[WDM] - Get LATEST edgedriver version for 101.0.1210 Edge\n",
      "[WDM] - Trying to download new driver from https://msedgedriver.azureedge.net/101.0.1210.53/edgedriver_win64.zip\n",
      "[WDM] - Driver has been saved in cache [C:\\Users\\qyerm\\.wdm\\drivers\\edgedriver\\win64\\101.0.1210.53]\n"
     ]
    }
   ],
   "source": [
    "#загрузка драйвера для selenium\n",
    "from webdriver_manager.microsoft import EdgeChromiumDriverManager\n",
    "driver = webdriver.Edge(EdgeChromiumDriverManager().install())"
   ]
  },
  {
   "cell_type": "code",
   "execution_count": null,
   "id": "48d48738",
   "metadata": {},
   "outputs": [],
   "source": [
    "#webdriver для chrome \n",
    "\n",
    "#from webdriver_manager.chrome import ChromeDriverManager\n",
    "#driver = webdriver.Chrome(ChromeDriverManager().install())"
   ]
  },
  {
   "cell_type": "code",
   "execution_count": 4,
   "id": "bb486e0b",
   "metadata": {
    "scrolled": false
   },
   "outputs": [],
   "source": [
    "#выбор столбца ДАТЫ, чтобы узнать последний квартал\n",
    "exect = 'SELECT date FROM file1'\n",
    "cursor = conn.cursor()\n",
    "cursor.execute(exect)\n",
    "df = pd.DataFrame(cursor.fetchall())"
   ]
  },
  {
   "cell_type": "code",
   "execution_count": 27,
   "id": "e80dccf4",
   "metadata": {},
   "outputs": [
    {
     "data": {
      "text/plain": [
       "'1.01.2022'"
      ]
     },
     "execution_count": 27,
     "metadata": {},
     "output_type": "execute_result"
    }
   ],
   "source": [
    "#последний квартал помогает загрузить конкретный квартал\n",
    "last_quarter = df.iloc[-1, 0]\n",
    "last_quarter"
   ]
  },
  {
   "cell_type": "code",
   "execution_count": 19,
   "id": "06e8e15e",
   "metadata": {},
   "outputs": [],
   "source": [
    "#current year & quarters\n",
    "current_year = datetime.now().year\n",
    "quarter = ['1.04.', '1.07.', '1.10.', '1.01.']"
   ]
  },
  {
   "cell_type": "code",
   "execution_count": 20,
   "id": "fe13706f",
   "metadata": {},
   "outputs": [],
   "source": [
    "#путь к папке загрузки\n",
    "downloads_folder = os.getcwd() + '\\\\Downloads\\\\'"
   ]
  },
  {
   "cell_type": "code",
   "execution_count": 21,
   "id": "2bf39008",
   "metadata": {
    "scrolled": false
   },
   "outputs": [],
   "source": [
    "#мы получаем наш сайт в драйвере\n",
    "driver.get('https://stat.gov.kz/official/industry/20/statistic/5')"
   ]
  },
  {
   "cell_type": "code",
   "execution_count": 22,
   "id": "76a12501",
   "metadata": {},
   "outputs": [],
   "source": [
    "#выбираем язык РУС на сайте\n",
    "[n for n in driver.find_elements_by_css_selector(\"button\") if n.text == 'РУС'][0].click()"
   ]
  },
  {
   "cell_type": "code",
   "execution_count": 23,
   "id": "b84d1955",
   "metadata": {},
   "outputs": [],
   "source": [
    "#мы получаем все файлы на этом сайте\n",
    "driver.find_element_by_class_name('field-periodity').send_keys('квартал')\n",
    "driver.find_element_by_class_name('field-title').send_keys('Об объемах оказанных услуг в Республике Казахстан')"
   ]
  },
  {
   "cell_type": "code",
   "execution_count": 30,
   "id": "37a63ffc",
   "metadata": {},
   "outputs": [],
   "source": [
    "#quarter + year \n",
    "quarter_and_year = [n + str(current_year) for n in quarter]\n",
    "quarter_and_year[-1] = quarter[-1] + str(current_year + 1)"
   ]
  },
  {
   "cell_type": "code",
   "execution_count": 31,
   "id": "0e545e72",
   "metadata": {},
   "outputs": [
    {
     "data": {
      "text/plain": [
       "['1.04.2021', '1.07.2021', '1.10.2021', '1.01.2022']"
      ]
     },
     "execution_count": 31,
     "metadata": {},
     "output_type": "execute_result"
    }
   ],
   "source": [
    "quarter_and_year"
   ]
  },
  {
   "cell_type": "code",
   "execution_count": 32,
   "id": "c2278749",
   "metadata": {},
   "outputs": [
    {
     "name": "stdout",
     "output_type": "stream",
     "text": [
      "There is no current year\n"
     ]
    }
   ],
   "source": [
    "#проверка года последних файлов, если он равен текущему году, то мы загрузим файлы\n",
    "if driver.find_elements_by_class_name('left')[1].text[-9:-5] == str(current_year):\n",
    "    #индекс последнего квартала в листе quarter_and_year\n",
    "    index = quarter_and_year.index(last_quarter)\n",
    "    \n",
    "    #получение файлов за текущий год\n",
    "    driver.find_element_by_class_name('field-period').send_keys(str(current_year))\n",
    "    driver.find_element_by_class_name('field-periodity').send_keys('квартал')\n",
    "    driver.find_element_by_class_name('field-title').send_keys('Об объемах оказанных услуг в Республике Казахстан')\n",
    "    \n",
    "    length = len(driver.find_elements_by_class_name('arrow'))\n",
    "    \n",
    "    #по последнему кварталу мы загрузим файлы за определенный квартал. Например, если последний квартал = 1.07, \n",
    "    #то мы загрузим эти кварталы которые больше последнего 1.04+year < 1.07+year < 1.10+year, 1.01+year \n",
    "    #удаляем из листа 1.04+year < 1.07+year \n",
    "    for n in range(length):\n",
    "        if n <= index:\n",
    "            del quarter_and_year[0]\n",
    "        else:\n",
    "            (driver.find_elements_by_class_name('arrow')[n]).click()\n",
    "            \n",
    "    #после фор луп проверяем есть ли у нас новый квартaл или нет\n",
    "    if len(quarter_and_year) == 0:\n",
    "        print('There is no new files')\n",
    "    else:\n",
    "        #выбираем последние скачанные файлы по длину листа quarter_and_year\n",
    "        files_list = os.listdir(downloads_folder)[-len(quarter_and_year):]\n",
    "    \n",
    "        #создание новой папки для хранения загруженных файлов\n",
    "        new_folder = downloads_folder + 'folder\\\\'\n",
    "        if not os.path.exists(new_folder):\n",
    "            os.makedirs(new_folder)\n",
    "        \n",
    "        #копирование файлов в новую папку\n",
    "        for n in files_list:\n",
    "            shutil.copy(downloads_folder + n, new_folder)\n",
    "        \n",
    "        #удаляем файлы\n",
    "        for n in files_list:\n",
    "            os.remove(downloads_folder + n)\n",
    "        \n",
    "        #проверка наличия zip-файлов и распаковка zip-файлов\n",
    "        zip_files = [n for n in files_list if 'rar' in n or 'zip' in n]\n",
    "        for n in zip_files:\n",
    "            patoolib.extract_archive(new_folder + n, outdir=new_folder)\n",
    "        \n",
    "        #выбор файлов excel в списке\n",
    "        files_list = [n for n in os.listdir(new_folder) if 'xls' in n or 'xlsx' in n]\n",
    "        \n",
    "        #создание фрейма данных для хранения наших файлов\n",
    "        table1 = pd.DataFrame(columns=['date','services','volume','small','medium', 'large','state','private','overseas'])\n",
    "        table2 = pd.DataFrame(columns=['date','services','volume', 'volume_of_the_rural_area'])\n",
    "\n",
    "        #обработка excel файлов и добавление в наш фрейм данных\n",
    "        for n in range(len(quarter_and_year)):\n",
    "            xls = pd.ExcelFile(new_folder + files_list[n])\n",
    "            try:\n",
    "                df1 = pd.read_excel(xls, '4.').dropna(axis=0)\n",
    "                df2 = pd.read_excel(xls, '4.продолжение').dropna(axis=0)\n",
    "                df3 = pd.read_excel(xls, '5.').dropna(axis=0)\n",
    "                df4 = pd.read_excel(xls, '5.продолжение').dropna(axis=0)\n",
    "            except ValueError as v:\n",
    "                df1 = pd.read_excel(xls, '4,').dropna(axis=0)\n",
    "                df2 = pd.read_excel(xls, '4,продолжение').dropna(axis=0)\n",
    "                df3 = pd.read_excel(xls, '5,').dropna(axis=0)\n",
    "                df4 = pd.read_excel(xls, '5,продолжение').dropna(axis=0)\n",
    "        \n",
    "            df1 = df1.rename(columns={df1.columns[0]:df2.columns[0]})\n",
    "            sheet4 = pd.concat([df1, df2], axis=0, ignore_index=True)\n",
    "    \n",
    "            df3 = df3.rename(columns={df3.columns[0]:df4.columns[0]})\n",
    "            sheet5 = pd.concat([df3, df4], axis=0, ignore_index=True)\n",
    "        \n",
    "            date_column = pd.Series([quarter_and_year[n]] * sheet5.shape[0])\n",
    "            concat_sheet = pd.concat([date_column, sheet4.iloc[:,-1], sheet4.iloc[:,1:-1], sheet5.iloc[:,2:-1]], axis=1)\n",
    "\n",
    "            concat_sheet.columns = ['date','services','volume','small','medium', 'large','state','private','overseas']\n",
    "            table1 = pd.concat([table1, concat_sheet], axis=0, ignore_index=True)        \n",
    "            \n",
    "            table1 = table1.replace('-', 0)\n",
    "            table1[['volume','small','medium','large','state','private','overseas']] = table1[['volume','small','medium','large','state','private','overseas']].astype(int)\n",
    "        \n",
    "            sheet7 = pd.read_excel(xls, '7.').dropna(axis=0)\n",
    "            sheet7[sheet7.columns[0]] = sheet7[sheet7.columns[-1]]\n",
    "            sheet7 = sheet7.iloc[:,0:4].drop(columns=[sheet7.columns[2]]).reset_index(drop=True)\n",
    "\n",
    "            date_column2 = pd.Series([quarter_and_year[n]] * sheet7.shape[0])\n",
    "            sheet7 = pd.concat([date_column2, sheet7], axis=1, ignore_index=True)\n",
    "        \n",
    "            sheet7.columns = ['date','services','volume', 'volume_of_the_rural_area']\n",
    "            table2 = pd.concat([table2,  sheet7], axis=0, ignore_index=True)  \n",
    "            \n",
    "            table2 = table2.replace('-', 0)\n",
    "            table2[['volume','volume_of_the_rural_area']] = table2[['volume','volume_of_the_rural_area']].astype(int)\n",
    "            \n",
    "        #вставка нашего готового фрейма данных в нашу базу данных pgadmin\n",
    "        def execute_values(conn, df, table):\n",
    "  \n",
    "            tuples = [tuple(x) for x in df.to_numpy()]\n",
    "            cols = ','.join(list(df.columns))\n",
    "            query = \"INSERT INTO %s(%s) VALUES %%s\" % (table, cols)\n",
    "            cursor = conn.cursor()\n",
    "            try:\n",
    "                extras.execute_values(cursor, query, tuples)\n",
    "                conn.commit()\n",
    "            except (Exception, psycopg2.DatabaseError) as error:\n",
    "                print(\"Error: %s\" % error)\n",
    "                conn.rollback()\n",
    "                cursor.close()\n",
    "                return 1\n",
    "            print(\"the dataframe is inserted\")\n",
    "            cursor.close()\n",
    "            \n",
    "        execute_values(conn, table1, 'file1')\n",
    "        execute_values(conn, table2, 'file2')\n",
    "        \n",
    "        \n",
    "#если не равен текущему году, то мы выводим текст\n",
    "else:\n",
    "    print('There is no current year')"
   ]
  },
  {
   "cell_type": "code",
   "execution_count": 30,
   "id": "e915125b",
   "metadata": {},
   "outputs": [
    {
     "name": "stdout",
     "output_type": "stream",
     "text": [
      "<class 'pandas.core.frame.DataFrame'>\n",
      "RangeIndex: 25 entries, 0 to 24\n",
      "Data columns (total 9 columns):\n",
      " #   Column    Non-Null Count  Dtype \n",
      "---  ------    --------------  ----- \n",
      " 0   date      25 non-null     object\n",
      " 1   services  25 non-null     object\n",
      " 2   volume    25 non-null     int32 \n",
      " 3   small     25 non-null     int32 \n",
      " 4   medium    25 non-null     int32 \n",
      " 5   large     25 non-null     int32 \n",
      " 6   state     25 non-null     int32 \n",
      " 7   private   25 non-null     int32 \n",
      " 8   foreign   25 non-null     int32 \n",
      "dtypes: int32(7), object(2)\n",
      "memory usage: 1.2+ KB\n"
     ]
    }
   ],
   "source": [
    "table1.info()"
   ]
  },
  {
   "cell_type": "code",
   "execution_count": 55,
   "id": "6df2f265",
   "metadata": {},
   "outputs": [
    {
     "name": "stdout",
     "output_type": "stream",
     "text": [
      "the dataframe is inserted\n"
     ]
    }
   ],
   "source": [
    "def execute_values(conn, df, table):\n",
    "  \n",
    "            tuples = [tuple(x) for x in df.to_numpy()]\n",
    "            cols = ','.join(list(df.columns))\n",
    "            query = \"INSERT INTO %s(%s) VALUES %%s\" % (table, cols)\n",
    "            cursor = conn.cursor()\n",
    "            try:\n",
    "                extras.execute_values(cursor, query, tuples)\n",
    "                conn.commit()\n",
    "            except (Exception, psycopg2.DatabaseError) as error:\n",
    "                print(\"Error: %s\" % error)\n",
    "                conn.rollback()\n",
    "                cursor.close()\n",
    "                return 1\n",
    "            print(\"the dataframe is inserted\")\n",
    "            cursor.close()\n",
    "            \n",
    "execute_values(conn, table1, 'file1')"
   ]
  }
 ],
 "metadata": {
  "kernelspec": {
   "display_name": "Python 3 (ipykernel)",
   "language": "python",
   "name": "python3"
  },
  "language_info": {
   "codemirror_mode": {
    "name": "ipython",
    "version": 3
   },
   "file_extension": ".py",
   "mimetype": "text/x-python",
   "name": "python",
   "nbconvert_exporter": "python",
   "pygments_lexer": "ipython3",
   "version": "3.9.7"
  }
 },
 "nbformat": 4,
 "nbformat_minor": 5
}
